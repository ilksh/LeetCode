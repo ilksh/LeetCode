{
 "cells": [
  {
   "cell_type": "markdown",
   "metadata": {},
   "source": [
    "# Chapter 4) Recursion \n",
    "\n",
    "|Problem|Dfficulty|Link|\n",
    "|--------|--|-----------|\n",
    "|21. Merge Two Sorted Lists| <span style=\"color:lightgreen\">Easy</span> | https://leetcode.com/problems/merge-two-sorted-lists/description |\n",
    "|50. Pow(x, n) | <span style=\"color:lightgreen\">Easy</span> | https://leetcode.com/problems/powx-n/description |\n",
    "|60. Permutation Sequence | <span style=\"color:red\">Hard</span>  | https://leetcode.com/problems/permutation-sequence/description |\n",
    "|241. Different Ways to Add Parentheses | <span style=\"color:yellow\">Medium</span> | https://leetcode.com/problems/different-ways-to-add-parentheses/description |\n"
   ]
  },
  {
   "cell_type": "markdown",
   "metadata": {},
   "source": [
    "---\n",
    "# Chapter 5) Arrays and LinkedList\n",
    "|Problem|Dfficulty|Link|\n",
    "|--------|--|-----------|\n",
    "|4. Median of Two Sorted Arrays | <span style=\"color:red\">Hard</span> | https://leetcode.com/problems/median-of-two-sorted-arrays/description | \n",
    "|19. Remove Nth Node From End of List | <span style=\"color:yellow\">Medium</span> | https://leetcode.com/problems/remove-nth-node-from-end-of-list/description |\n",
    "|23. Merge k Sorted Lists | <span style=\"color:red\">Hard</span> | https://leetcode.com/problems/merge-k-sorted-lists/description |\n",
    "|26. Remove Duplicates from Sorted Array | <span style=\"color:lightgreen\">Easy</span> | https://leetcode.com/problems/remove-duplicates-from-sorted-array/description |\n",
    "|61. Rotate List | <span style=\"color:yellow\">Medium</span>  | https://leetcode.com/problems/rotate-list/description |\n",
    "|83. Remove Duplicates from Sorted List | <span style=\"color:lightgreen\">Easy</span> | https://leetcode.com/problems/remove-duplicates-from-sorted-list/description |\n",
    "|92. Reverse Linked List II | <span style=\"color:yellow\">Medium</span> | https://leetcode.com/problems/reverse-linked-list-ii/description |\n",
    "|143. Reorder List | <span style=\"color:yellow\">Medium</span>  | https://leetcode.com/problems/reorder-list/description |\n",
    "|148. Sort List | <span style=\"color:yellow\">Medium</span> | https://leetcode.com/problems/sort-list/description |"
   ]
  },
  {
   "cell_type": "markdown",
   "metadata": {},
   "source": [
    "---\n",
    "# Chapter 6) Stacks and Queues\n",
    "|Problem|Dfficulty|Link|\n",
    "|--------|--|-----------|\n",
    "|20. Valid Parentheses|<span style=\"color:lightgreen\">Easy</span> | https://leetcode.com/problems/valid-parentheses/description |\n",
    "|150. Evaluate Reverse Polish Notation | <span style=\"color:yellow\">Medium</span> | https://leetcode.com/problems/evaluate-reverse-polish-notation/description |\n",
    "|155. Min Stack | <span style=\"color:yellow\">Medium</span> | https://leetcode.com/problems/min-stack/description |\n",
    "|225. Implement Stack using Queues | <span style=\"color:lightgreen\">Easy</span>  | https://leetcode.com/problems/implement-stack-using-queues/description |\n",
    "| 232. Implement Queue using Stacks | <span style=\"color:lightgreen\">Easy</span>  | https://leetcode.com/problems/implement-queue-using-stacks/description | \n",
    "| 387. First Unique Character in a String | <span style=\"color:lightgreen\">Easy</span> | https://leetcode.com/problems/first-unique-character-in-a-string/description |\n",
    "| 622. Design Circular Queue | <span style=\"color:yellow\">Medium</span> | https://leetcode.com/problems/design-circular-queue/description |\n",
    "| 933. Number of Recent Calls | <span style=\"color:lightgreen\">Easy</span> | https://leetcode.com/problems/number-of-recent-calls/description |\n",
    "| 1352. Product of the Last K Numbers | <span style=\"color:yellow\">Medium</span> | https://leetcode.com/problems/product-of-the-last-k-numbers/description |\n",
    "| 2816. Double a Number Represented as a Linked List | <span style=\"color:yellow\">Medium</span>  | https://leetcode.com/problems/double-a-number-represented-as-a-linked-list/description "
   ]
  },
  {
   "cell_type": "markdown",
   "metadata": {},
   "source": [
    "---\n",
    "# Chapter 7) Tree\n",
    "\n",
    "|Problem|Dfficulty|Link|\n",
    "|--------|--|-----------|\n",
    "|102. Binary Tree Level Order Traversal | <span style=\"color:yellow\">Medium</span> | https://leetcode.com/problems/binary-tree-level-order-traversal/description |\n",
    "|103. Binary Tree Zigzag Level Order Traversal |  <span style=\"color:yellow\">Medium</span> | https://leetcode.com/problems/binary-tree-zigzag-level-order-traversal/description |\n",
    "|109. Convert Sorted List to Binary Search Tree |  <span style=\"color:yellow\">Medium</span> | https://leetcode.com/problems/convert-sorted-list-to-binary-search-tree/description |\n",
    "|112. Path Sum|<span style=\"color:lightgreen\">Easy</span>|https://leetcode.com/problems/path-sum/description|\n",
    "|235. Lowest Common Ancestor of a Binary Search Tree| <span style=\"color:yellow\">Medium</span> |https://leetcode.com/problems/lowest-common-ancestor-of-a-binary-search-tree/description|\n",
    "|236. Lowest Common Ancestor of a Binary Tree|<span style=\"color:yellow\">Medium</span>| https://leetcode.com/problems/lowest-common-ancestor-of-a-binary-tree/description|\n",
    "|513. Find Bottom Left Tree Value| <span style=\"color:yellow\">Medium</span> | https://leetcode.com/problems/find-bottom-left-tree-value/description |\n",
    "|701. Insert into a Binary Search Tree|<span style=\"color:yellow\">Medium</span> | https://leetcode.com/problems/lowest-common-ancestor-of-a-binary-tree/description|\n",
    "|938. Range Sum of BST|<span style=\"color:lightgreen\">Easy</span>|https://leetcode.com/problems/range-sum-of-bst|\n",
    "|1376. Time Needed to Inform All Employees| <span style=\"color:yellow\">Medium</span> | https://leetcode.com/problems/time-needed-to-inform-all-employees/description | "
   ]
  },
  {
   "cell_type": "markdown",
   "metadata": {},
   "source": [
    "---\n",
    "# Chapter 8 ~ 9) Heap\n",
    "\n",
    "|Problem|Dfficulty|Link|\n",
    "|--------|--|-----------|\n",
    "|347. Top K Frequent Elements | <span style=\"color:yellow\">Medium</span> | https://leetcode.com/problems/top-k-frequent-elements/description | \n",
    "|692. Top K Frequent Words | <span style=\"color:yellow\">Medium</span>  | https://leetcode.com/problems/top-k-frequent-words/description |\n",
    "|703. Kth Largest Element in a Stream | <span style=\"color:lightgreen\">Easy</span> | https://leetcode.com/problems/kth-largest-element-in-a-stream/description |"
   ]
  },
  {
   "cell_type": "markdown",
   "metadata": {},
   "source": [
    "---\n",
    "# Chapter 10 ~ 12) Sorting\n",
    "\n",
    "|Problem|Dfficulty|Link|\n",
    "|--------|--|-----------|\n",
    "|75. Sort Colors | <span style=\"color:yellow\">Medium</span> | https://leetcode.com/problems/sort-colors/description |\n",
    "|88. Merge Sorted Array | <span style=\"color:lightgreen\">Easy</span>  | https://leetcode.com/problems/merge-sorted-array/description |\n",
    "|147. Insertion Sort List | <span style=\"color:yellow\">Medium</span>  | https://leetcode.com/problems/insertion-sort-list/description |\n",
    "|164. Maximum Gap | <span style=\"color:yellow\">Medium</span> | https://leetcode.com/problems/maximum-gap/description |\n",
    "|324. Wiggle Sort II | <span style=\"color:yellow\">Medium</span> | https://leetcode.com/problems/wiggle-sort-ii/description |\n",
    "|561. Array Partition | <span style=\"color:lightgreen\">Easy</span>  | https://leetcode.com/problems/array-partition/description |\n",
    "|912. Sort an Array |<span style=\"color:yellow\">Medium</span> |https://leetcode.com/problems/sort-an-array/description |"
   ]
  },
  {
   "cell_type": "markdown",
   "metadata": {},
   "source": [
    "---\n",
    "# Chapter 13) Binary Search Tree\n",
    "\n",
    "|Problem|Dfficulty|Link|\n",
    "|--------|--|-----------|\n",
    "|95. Unique Binary Search Trees II | <span style=\"color:yellow\">Medium</span>  | https://leetcode.com/problems/unique-binary-search-trees-ii/description | \n",
    "|96. Unique Binary Search Trees | <span style=\"color:yellow\">Medium</span> | https://leetcode.com/problems/unique-binary-search-trees/description |\n",
    "|98. Validate Binary Search Tree | <span style=\"color:yellow\">Medium</span>  | https://leetcode.com/problems/validate-binary-search-tree/description |\n",
    "|450. Delete Node in a BST | <span style=\"color:yellow\">Medium</span>  | https://leetcode.com/problems/delete-node-in-a-bst/description |\n",
    "|662. Maximum Width of Binary Tree | <span style=\"color:yellow\">Medium</span>  | https://leetcode.com/problems/maximum-width-of-binary-tree/description |\n",
    "|700. Search in a Binary Search Tree | <span style=\"color:lightgreen\">Easy</span>  | https://leetcode.com/problems/search-in-a-binary-search-tree/description |\n",
    "|701. Insert into a Binary Search Tree | <span style=\"color:yellow\">Medium</span> | https://leetcode.com/problems/insert-into-a-binary-search-tree/description |\n",
    "|938. Range Sum of BST | <span style=\"color:lightgreen\">Easy</span>  | https://leetcode.com/problems/range-sum-of-bst/description |\n",
    "|1305. All Elements in Two Binary Search Trees | <span style=\"color:yellow\">Medium</span>  | https://leetcode.com/problems/all-elements-in-two-binary-search-trees/description |\n"
   ]
  },
  {
   "cell_type": "markdown",
   "metadata": {},
   "source": [
    "---\n",
    "# Chapter 14) 2-3 Tree (Balanced Tree)\n",
    "\n",
    "|Problem|Dfficulty|Link|\n",
    "|--------|--|-----------|\n",
    "|100. Same Tree | <span style=\"color:lightgreen\">Easy</span>  | https://leetcode.com/problems/same-tree/description |\n",
    "|110. Balanced Binary Tree | <span style=\"color:lightgreen\">Easy</span>  | https://leetcode.com/problems/balanced-binary-tree/description |\n",
    "|894. All Possible Full Binary Trees | <span style=\"color:yellow\">Medium</span> | https://leetcode.com/problems/all-possible-full-binary-trees/description |\n",
    "|1382. Balance a Binary Search Tree| <span style=\"color:yellow\">Medium</span> | https://leetcode.com/problems/balance-a-binary-search-tree/description | "
   ]
  },
  {
   "cell_type": "markdown",
   "metadata": {},
   "source": [
    "---\n",
    "# Chapter 17 ~ 19) Hashing\n",
    "\n",
    "|Problem|Dfficulty|Link|\n",
    "|--------|--|-----------|\n",
    "|12. Integer to Roman|<span style=\"color:lightgreen\">Easy</span>|https://leetcode.com/problems/integer-to-roman/description |\n",
    "|127. Word Ladder | <span style=\"color:red\">Hard</span> | https://leetcode.com/problems/word-ladder/description |\n",
    "|169. Majority Element| <span style=\"color:lightgreen\">Easy</span> |  https://leetcode.com/problems/majority-element/description |\n",
    "|229. Majority Element II | <span style=\"color:yellow\">Medium</span>  | https://leetcode.com/problems/majority-element-ii/description |\n",
    "|219. Contains Duplicate II | <span style=\"color:lightgreen\">Easy</span>  | https://leetcode.com/problems/contains-duplicate-ii/description |\n",
    "|387. First Unique Character in a String | <span style=\"color:lightgreen\">Easy</span> | https://leetcode.com/problems/first-unique-character-in-a-string/description |\n",
    "|705. Design HashSet |<span style=\"color:lightgreen\">Easy</span> | https://leetcode.com/problems/design-hashset/description |\n",
    "|706. Design HashMap | <span style=\"color:lightgreen\">Easy</span> | https://leetcode.com/problems/design-hashmap/description |"
   ]
  },
  {
   "cell_type": "markdown",
   "metadata": {},
   "source": [
    "---\n",
    "# Chapter 20 ~ 21) Graph (DFS, BFS, Topological Sorting)\n",
    "\n",
    "|Problem|Dfficulty|Link|\n",
    "|--------|--------|-----------|\n",
    "|200. Number of Islands | <span style=\"color:yellow\">Medium</span> | https://leetcode.com/problems/number-of-islands/description |\n",
    "|207. Course Schedule| <span style=\"color:yellow\">Medium</span> | https://leetcode.com/problems/course-schedule/description| \n",
    "|210. Course Schedule II | <span style=\"color:yellow\">Medium</span>  |https://leetcode.com/problems/course-schedule-ii/description |\n",
    "|310. Minimum Height Trees |  <span style=\"color:yellow\">Medium</span>   | https://leetcode.com/problems/minimum-height-trees/description|\n",
    "|322. Coin Change| <span style=\"color:yellow\">Medium</span> | https://leetcode.com/problems/coin-change/description|\n",
    "|365. Water and Jug Problem | <span style=\"color:yellow\">Medium</span> | https://leetcode.com/problems/water-and-jug-problem/description|\n",
    "|463. Island Perimeter | <span style=\"color:lightgreen\">Easy</span> | https://leetcode.com/problems/island-perimeter/description | \n",
    "|547. Number of Provinces | <span style=\"color:yellow\">Medium</span> | https://leetcode.com/problems/number-of-provinces/description |\n",
    "|997. Find the Town Judge | <span style=\"color:lightgreen\">Easy</span> | https://leetcode.com/problems/find-the-town-judge/description/?envType=daily-question&envId=2024-02-22\n"
   ]
  },
  {
   "cell_type": "markdown",
   "metadata": {},
   "source": [
    "---\n",
    "# Chapter 22 ~ 23) Strong Connected Component\n",
    "\n",
    "|Problem|Dfficulty|Link|\n",
    "|--------|--------|-----------|\n",
    "|1489. Find Critical and Pseudo-Critical Edges in Minimum Spanning Tree | <span style=\"color:red\">Hard</span> | https://leetcode.com/problems/find-critical-and-pseudo-critical-edges-in-minimum-spanning-tree/description |\n",
    "|1568. Minimum Number of Days to Disconnect Island |  <span style=\"color:red\">Hard</span> | https://leetcode.com/problems/minimum-number-of-days-to-disconnect-island/description |"
   ]
  },
  {
   "cell_type": "markdown",
   "metadata": {},
   "source": [
    "---\n",
    "# Chapter 24 ~ 25) Shortest Path\n",
    "|Problem|Dfficulty|Link|\n",
    "|--------|--------|-----------|\n",
    "|787. Cheapest Flights Within K Stops | <span style=\"color:yellow\">Medium</span> | https://leetcode.com/problems/cheapest-flights-within-k-stops/description |\n",
    "|1334. Find the City With the Smallest Number of Neighbors at a Threshold Distance | <span style=\"color:yellow\">Medium</span> | https://leetcode.com/problems/find-the-city-with-the-smallest-number-of-neighbors-at-a-threshold-distance/description | \n",
    "|1368. Minimum Cost to Make at Least One Valid Path in a Grid | <span style=\"color:red\">Hard</span>  | https://leetcode.com/problems/minimum-cost-to-make-at-least-one-valid-path-in-a-grid/description | \n",
    "|2203. Minimum Weighted Subgraph With the Required Paths | <span style=\"color:red\">Hard</span> | https://leetcode.com/problems/minimum-weighted-subgraph-with-the-required-paths/description |\n",
    "|2642. Design Graph With Shortest Path Calculator | <span style=\"color:red\">Hard</span>  | https://leetcode.com/problems/design-graph-with-shortest-path-calculator/description |"
   ]
  },
  {
   "attachments": {},
   "cell_type": "markdown",
   "metadata": {},
   "source": [
    "---\n",
    "# Chapter 26 ~ 27) Union Find\n",
    "|Problem|Dfficulty|Link|\n",
    "|--------|--------|-----------|\n",
    "|128. Longest Consecutive Sequence | <span style=\"color:yellow\">Medium</span> | https://leetcode.com/problems/longest-consecutive-sequence/description |\n",
    "|684. Redundant Connection|  <span style=\"color:yellow\">Medium</span>  | https://leetcode.com/problems/redundant-connection/description |\n",
    "|721. Accounts Merge |  <span style=\"color:yellow\">Medium</span>   | https://leetcode.com/problems/accounts-merge/description |\n",
    "|839. Similar String Groups | <span style=\"color:red\">Hard</span> | https://leetcode.com/problems/similar-string-groups/description |\n",
    "|1254. Number of Closed Islands | <span style=\"color:yellow\">Medium</span>  | https://leetcode.com/problems/number-of-closed-islands/description |\n"
   ]
  },
  {
   "attachments": {},
   "cell_type": "markdown",
   "metadata": {},
   "source": [
    "---\n",
    "# Chapter 28 ~ 29) Minimum Spanning Tree\n",
    "\n",
    "|Problem|Dfficulty|Link|\n",
    "|--------|--------|-----------|\n",
    "|1489. Find Critical and Pseudo-Critical Edges in Minimum Spanning Tree | <span style=\"color:red\">Hard</span>  | https://leetcode.com/problems/find-critical-and-pseudo-critical-edges-in-minimum-spanning-tree/description | \n",
    "|1584. Min Cost to Connect All Points | <span style=\"color:yellow\">Medium</span>  | https://leetcode.com/problems/min-cost-to-connect-all-points/description |"
   ]
  },
  {
   "attachments": {},
   "cell_type": "markdown",
   "metadata": {},
   "source": [
    "---\n",
    "# Chapter 31 ~ 32) Trie)\n",
    "|Problem|Dfficulty|Link|\n",
    "|--------|--------|-----------|\n",
    "|139. Word Break | <span style=\"color:yellow\">Medium</span>  | https://leetcode.com/problems/word-break/description |\n",
    "|140. Word Break II | <span style=\"color:red\">Hard</span>  | https://leetcode.com/problems/word-break-ii/description |\n",
    "|208. Implement Trie (Prefix Tree) | <span style=\"color:red\">Hard</span>  | https://leetcode.com/problems/implement-trie-prefix-tree/description |\n",
    "|472. Concatenated Words | <span style=\"color:red\">Hard</span>  | https://leetcode.com/problems/concatenated-words/description |\n",
    "|720. Longest Word in Dictionary | <span style=\"color:yellow\">Medium</span> | https://leetcode.com/problems/longest-word-in-dictionary/description |\n"
   ]
  }
 ],
 "metadata": {
  "kernelspec": {
   "display_name": "Python 3 (ipykernel)",
   "language": "python",
   "name": "python3"
  },
  "language_info": {
   "codemirror_mode": {
    "name": "ipython",
    "version": 3
   },
   "file_extension": ".py",
   "mimetype": "text/x-python",
   "name": "python",
   "nbconvert_exporter": "python",
   "pygments_lexer": "ipython3",
   "version": "3.10.4 (v3.10.4:9d38120e33, Mar 23 2022, 17:29:05) [Clang 13.0.0 (clang-1300.0.29.30)]"
  },
  "vscode": {
   "interpreter": {
    "hash": "aee8b7b246df8f9039afb4144a1f6fd8d2ca17a180786b69acc140d282b71a49"
   }
  }
 },
 "nbformat": 4,
 "nbformat_minor": 2
}
